{
 "cells": [
  {
   "cell_type": "code",
   "execution_count": 1,
   "metadata": {},
   "outputs": [
    {
     "name": "stdout",
     "output_type": "stream",
     "text": [
      "Financial Analysis\n",
      "---------------------------\n",
      "Total Months: 86\n",
      "Total: 38382578\n",
      "Average Change: -2315.1176470588234\n",
      "Greatest Increase in Profits: Feb-2012  1926159\n",
      "Greatest Decrease in Profits: Sep-2013  -2196167\n"
     ]
    },
    {
     "data": {
      "text/plain": [
       "<_io.TextIOWrapper name='Results.txt' mode='w' encoding='cp1252'>"
      ]
     },
     "execution_count": 1,
     "metadata": {},
     "output_type": "execute_result"
    }
   ],
   "source": [
    "import os\n",
    "import csv\n",
    "\n",
    "budget_csv = os.path.join(\"..\", \"budget_data.csv\")\n",
    "\n",
    "countMonths=0\n",
    "total = 0\n",
    "total_change = 0\n",
    "change = []\n",
    "monthyear = []\n",
    "\n",
    "with open(budget_csv, newline=\"\") as csvfile:\n",
    "\n",
    "    #reads the file into a list\n",
    "    csvreader = csv.reader(csvfile, delimiter=',')\n",
    "\n",
    "    #skips the header\n",
    "    next(csvfile, None)\n",
    "    \n",
    "    #iterate through the rows\n",
    "    for row in csvreader:\n",
    "        \n",
    "        countMonths = countMonths + 1\n",
    "        #print(countMonths)\n",
    "        total = total + int(row[1])\n",
    "        \n",
    "        #for the first row, set the amount to variable last amount\n",
    "        if countMonths == 1:\n",
    "            last_amount = int(row[1])\n",
    "\n",
    "        #we want to skip calculating the change for the first iteration, otherwise\n",
    "        if countMonths != 1:         \n",
    "            #calculate change from last amount to current amount\n",
    "            change.append(int(row[1]) - last_amount)\n",
    "            monthyear.append(row[0])\n",
    "            #reset last amount to the current value\n",
    "            last_amount = int(row[1])\n",
    "\n",
    "avgchange = sum(change) / len(change)\n",
    "\n",
    "\n",
    "\n",
    "print(\"Financial Analysis\")\n",
    "print(\"---------------------------\")\n",
    "print(\"Total Months: \" + str(countMonths ))\n",
    "print(\"Total: \" + str(total))\n",
    "print(\"Average Change: \" + str(avgchange))\n",
    "print(\"Greatest Increase in Profits: \" + str(monthyear[change.index(max(change))]) + \"  \" + str(change[change.index(max(change))]) )\n",
    "print(\"Greatest Decrease in Profits: \" + str(monthyear[change.index(min(change))]) + \"  \" + str(min(change)) )\n",
    "\n",
    "open(\"Results.txt\",\"w\")"
   ]
  },
  {
   "cell_type": "code",
   "execution_count": null,
   "metadata": {},
   "outputs": [],
   "source": []
  }
 ],
 "metadata": {
  "kernelspec": {
   "display_name": "Python 3",
   "language": "python",
   "name": "python3"
  },
  "language_info": {
   "codemirror_mode": {
    "name": "ipython",
    "version": 3
   },
   "file_extension": ".py",
   "mimetype": "text/x-python",
   "name": "python",
   "nbconvert_exporter": "python",
   "pygments_lexer": "ipython3",
   "version": "3.7.0"
  }
 },
 "nbformat": 4,
 "nbformat_minor": 2
}
