{
 "cells": [
  {
   "cell_type": "code",
   "execution_count": 17,
   "metadata": {},
   "outputs": [
    {
     "name": "stdout",
     "output_type": "stream",
     "text": [
      "Election Results\n",
      "---------------------------\n",
      "Total Votes: 3521001\n",
      "---------------------------\n",
      "Khan: 63.0% 2218231\n",
      "Correy: 20.0% 704200\n",
      "Li: 14.0% 492940\n",
      "O'Tooley: 3.0% 105630\n",
      "---------------------------\n",
      "Winner: Khan\n"
     ]
    },
    {
     "data": {
      "text/plain": [
       "<_io.TextIOWrapper name='Results.txt' mode='w' encoding='cp1252'>"
      ]
     },
     "execution_count": 17,
     "metadata": {},
     "output_type": "execute_result"
    }
   ],
   "source": [
    "import os\n",
    "import csv\n",
    "\n",
    "election_csv = os.path.join(\"Resources\", \"election_data.csv\")\n",
    "\n",
    "votes=0\n",
    "candidates = []\n",
    "khan_votes = 0\n",
    "correy_votes = 0\n",
    "li_votes = 0\n",
    "otooley_votes = 0\n",
    "\n",
    "with open(election_csv, newline=\"\") as csvfile:\n",
    "\n",
    "    #reads the file into a list\n",
    "    csvreader = csv.reader(csvfile, delimiter=',')\n",
    "\n",
    "    #skips the header\n",
    "    next(csvfile, None)\n",
    "    \n",
    "    #iterate through the rows\n",
    "    for row in csvreader:\n",
    "        \n",
    "        votes = votes + 1\n",
    "        \n",
    "        #check if candidate is in the list\n",
    "        candidates.append(row[2])\n",
    "   \n",
    "i=0\n",
    "for i in range(len(candidates)):\n",
    "    if candidates[i] == \"Khan\":\n",
    "        khan_votes = khan_votes + 1\n",
    "    if candidates[i] == \"Correy\":\n",
    "        correy_votes = correy_votes + 1\n",
    "    if candidates[i] == \"Li\":\n",
    "        li_votes = li_votes + 1\n",
    "    if candidates[i] == \"O'Tooley\":\n",
    "        otooley_votes = otooley_votes + 1\n",
    "\n",
    "khan_percent = round((khan_votes / votes)*100,2)\n",
    "correy_percent = round((correy_votes / votes)*100,2)\n",
    "li_percent = round((li_votes / votes)*100,2)\n",
    "otooley_percent = round((otooley_votes / votes)*100,2)\n",
    "\n",
    "results = {\n",
    "    khan_votes:\"Khan\",\n",
    "    correy_votes:\"Correy\",\n",
    "    li_votes:\"Li\",\n",
    "    otooley_votes:\"O'Tooley\"\n",
    "          }\n",
    "\n",
    "highest_votes = max(khan_votes, correy_votes, li_votes, otooley_votes)\n",
    "        \n",
    "print(\"Election Results\")\n",
    "print(\"---------------------------\")\n",
    "print(\"Total Votes: \" + str(votes))\n",
    "print(\"---------------------------\")\n",
    "print(\"Khan: \" + str(khan_percent) +\"% \" + str(khan_votes))\n",
    "print(\"Correy: \" + str(correy_percent) +\"% \" + str(correy_votes))\n",
    "print(\"Li: \" + str(li_percent) +\"% \" + str(li_votes))\n",
    "print(\"O'Tooley: \" + str(otooley_percent) +\"% \" + str(otooley_votes))\n",
    "print(\"---------------------------\")\n",
    "print(\"Winner: \" + results[highest_votes])\n",
    "\n",
    "open(\"Results.txt\",\"w\")"
   ]
  },
  {
   "cell_type": "code",
   "execution_count": null,
   "metadata": {},
   "outputs": [],
   "source": []
  },
  {
   "cell_type": "code",
   "execution_count": null,
   "metadata": {},
   "outputs": [],
   "source": []
  }
 ],
 "metadata": {
  "kernelspec": {
   "display_name": "Python 3",
   "language": "python",
   "name": "python3"
  },
  "language_info": {
   "codemirror_mode": {
    "name": "ipython",
    "version": 3
   },
   "file_extension": ".py",
   "mimetype": "text/x-python",
   "name": "python",
   "nbconvert_exporter": "python",
   "pygments_lexer": "ipython3",
   "version": "3.7.0"
  }
 },
 "nbformat": 4,
 "nbformat_minor": 2
}
