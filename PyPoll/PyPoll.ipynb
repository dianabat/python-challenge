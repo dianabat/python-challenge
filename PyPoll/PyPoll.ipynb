{
 "cells": [
  {
   "cell_type": "code",
   "execution_count": 2,
   "metadata": {},
   "outputs": [
    {
     "name": "stderr",
     "output_type": "stream",
     "text": [
      "IOPub data rate exceeded.\n",
      "The notebook server will temporarily stop sending output\n",
      "to the client in order to avoid crashing it.\n",
      "To change this limit, set the config variable\n",
      "`--NotebookApp.iopub_data_rate_limit`.\n",
      "\n",
      "Current values:\n",
      "NotebookApp.iopub_data_rate_limit=1000000.0 (bytes/sec)\n",
      "NotebookApp.rate_limit_window=3.0 (secs)\n",
      "\n"
     ]
    },
    {
     "name": "stdout",
     "output_type": "stream",
     "text": [
      "\n"
     ]
    }
   ],
   "source": [
    "import os\n",
    "import csv\n",
    "\n",
    "election_csv = os.path.join(\"Resources\", \"election_data.csv\")\n",
    "\n",
    "votes=0\n",
    "candidates = []\n",
    "\n",
    "with open(election_csv, newline=\"\") as csvfile:\n",
    "\n",
    "    #reads the file into a list\n",
    "    csvreader = csv.reader(csvfile, delimiter=',')\n",
    "\n",
    "    #skips the header\n",
    "    next(csvfile, None)\n",
    "    \n",
    "    #iterate through the rows\n",
    "    for row in csvreader:\n",
    "        \n",
    "        votes = votes + 1\n",
    "        \n",
    "        #check if candidate is in the list\n",
    "        candidates.append(row[2])\n",
    "        \n",
    "\n",
    "\n",
    "print(\"Election Results\")\n",
    "print(\"---------------------------\")\n",
    "print(\"Total Votes: \" + str(votes))\n",
    "print(candidates)"
   ]
  },
  {
   "cell_type": "code",
   "execution_count": null,
   "metadata": {},
   "outputs": [],
   "source": []
  }
 ],
 "metadata": {
  "kernelspec": {
   "display_name": "Python 3",
   "language": "python",
   "name": "python3"
  },
  "language_info": {
   "codemirror_mode": {
    "name": "ipython",
    "version": 3
   },
   "file_extension": ".py",
   "mimetype": "text/x-python",
   "name": "python",
   "nbconvert_exporter": "python",
   "pygments_lexer": "ipython3",
   "version": "3.7.0"
  }
 },
 "nbformat": 4,
 "nbformat_minor": 2
}
